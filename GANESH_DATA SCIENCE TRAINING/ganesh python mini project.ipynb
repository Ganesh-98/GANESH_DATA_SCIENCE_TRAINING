{
 "cells": [
  {
   "cell_type": "code",
   "execution_count": 1,
   "metadata": {},
   "outputs": [],
   "source": [
    "import tkinter as tk\n",
    "from tkinter import *\n",
    "from PIL import Image, ImageTk"
   ]
  },
  {
   "cell_type": "code",
   "execution_count": null,
   "metadata": {},
   "outputs": [],
   "source": [
    "window_main=tk.Tk(className='Baby Name Generator')\n",
    "window_main.geometry('600x600')\n",
    "\n",
    "#Image\n",
    "img=ImageTk.PhotoImage(Image.open(\"C:\\\\Users\\\\GANESH\\\\Downloads\\\\background.jpg\"))\n",
    "l=Label(image=img)\n",
    "l.pack()\n",
    "\n",
    "#Heading Label\n",
    "app_label=tk.Label(window_main,text=\"BABY NAMES GENERATOR\", font=('pink',20,'bold'))\n",
    "app_label.place(x=120,y=30)\n",
    "\n",
    "#Label\n",
    "name_label=tk.Label(window_main,text=\"Baby Name should start from \", font=('pink',12,'bold'))\n",
    "name_label.place(x=150,y=160)\n",
    "\n",
    "#Entry\n",
    "alphabet_entry=tk.Entry(window_main,font=('calibri',50,'italic'))\n",
    "alphabet_entry.place(x=360,y=120,width=100)\n",
    "#to display a element tkinter uses many ways - grids, pack, place (geometry)\n",
    "\n",
    "#Display_Button\n",
    "display_button=tk.Button(window_main,text=\"Display Baby Name Suggestions\",font=('calibri',20,'bold'))\n",
    "display_button.place(x=115,y=280)\n",
    "\n",
    "#TextInput\n",
    "inputtxt = tk.Text(window_main,font=('calibri',10))\n",
    "inputtxt.place(x=30,y=370,height=140,width=540)\n",
    "\n",
    "#Clear Button\n",
    "clear_button=tk.Button(window_main,text=\"Clear All\",font=('calibri',11,'bold'))\n",
    "clear_button.place(x=400,y=550)\n",
    "\n",
    "#Exit Button\n",
    "exit_button=tk.Button(window_main,text=\"Exit\",font=('calibri',11,'bold'))\n",
    "exit_button.place(x=490,y=550)\n",
    "\n",
    "\n",
    "\n",
    "#run the application\n",
    "window_main.mainloop()"
   ]
  },
  {
   "cell_type": "code",
   "execution_count": null,
   "metadata": {},
   "outputs": [],
   "source": []
  },
  {
   "cell_type": "code",
   "execution_count": 15,
   "metadata": {},
   "outputs": [],
   "source": []
  },
  {
   "cell_type": "code",
   "execution_count": null,
   "metadata": {},
   "outputs": [],
   "source": []
  }
 ],
 "metadata": {
  "kernelspec": {
   "display_name": "Python 3",
   "language": "python",
   "name": "python3"
  },
  "language_info": {
   "codemirror_mode": {
    "name": "ipython",
    "version": 3
   },
   "file_extension": ".py",
   "mimetype": "text/x-python",
   "name": "python",
   "nbconvert_exporter": "python",
   "pygments_lexer": "ipython3",
   "version": "3.8.8"
  }
 },
 "nbformat": 4,
 "nbformat_minor": 2
}
